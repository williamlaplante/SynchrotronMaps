{
 "cells": [
  {
   "cell_type": "code",
   "execution_count": 10,
   "metadata": {},
   "outputs": [],
   "source": [
    "import sys\n",
    "sys.path.append('/Users/williiamlaplante/Research/SynchrotronMaps/code')\n",
    "import matplotlib.pyplot as plt\n",
    "import numpy as np\n",
    "import healpy as hp\n",
    "import pandas as pd\n",
    "\n",
    "from itertools import product\n",
    "\n",
    "from tqdm.notebook import tqdm\n",
    "\n",
    "from numba import njit\n",
    "\n",
    "from ipywidgets import interact\n",
    "import ipywidgets as widgets\n",
    "\n",
    "from astropy.io import fits\n",
    "from astropy.visualization import PercentileInterval, ZScaleInterval\n",
    "\n",
    "from corrfunc import query_annulus, get_annuli_len\n",
    "import concurrent.futures\n",
    "from scipy.special import legendre\n",
    "full_path_ref = '/Users/williiamlaplante/Research/SynchrotronMaps/data/ReferenceSamples/'\n",
    "full_path_dust = '/Users/williiamlaplante/Research/SynchrotronMaps/data/DustMapsData/'"
   ]
  },
  {
   "cell_type": "code",
   "execution_count": 13,
   "metadata": {},
   "outputs": [],
   "source": [
    "def compute_corr(map1, map2, R, dr, nest=False):\n",
    "\n",
    "    if hp.get_nside(map1)!=hp.get_nside(map2):\n",
    "        raise Exception('Maps are of two different resolutions.')\n",
    "        \n",
    "    #parameters\n",
    "    nside = hp.get_nside(map1)\n",
    "    npix = hp.nside2npix(nside) \n",
    "    resol = np.degrees(hp.nside2resol(nside))\n",
    "\n",
    "    if dr < resol:\n",
    "        dr = resol\n",
    "\n",
    "    if R==0: \n",
    "        return (map1*map2).mean(), (map1*map2).std()/np.sqrt(npix)\n",
    "\n",
    "    elif R<resol:\n",
    "        R = resol\n",
    "\n",
    "    ring_len = get_annuli_len(nside, R, dr, step=4, nest=nest)\n",
    "\n",
    "    #Get the desired pixels and the vectors associated with them.\n",
    "    pix1, pix2 = np.arange(npix)[map1!=hp.UNSEEN], np.arange(npix)[map2!=hp.UNSEEN]\n",
    "    pix_inter =  np.intersect1d(pix1,pix2)\n",
    "    X,Y,Z = hp.pix2vec(nside, pix_inter, nest=nest)\n",
    "    \n",
    "    def query_annulus_wrapper(vec):\n",
    "        return query_annulus(map2, nside, vec, R, dr, nest).sum()/ring_len\n",
    "    \n",
    "    with concurrent.futures.ProcessPoolExecutor() as executor:\n",
    "        arr = np.fromiter(executor.map(query_annulus_wrapper, zip(X,Y,Z)), dtype=np.float)\n",
    "    \n",
    "    result = map1[pix_inter] * arr\n",
    "    return result.mean(), result.std()/np.sqrt(npix)\n"
   ]
  },
  {
   "cell_type": "code",
   "execution_count": 7,
   "metadata": {},
   "outputs": [],
   "source": [
    "m = np.random.normal(size=hp.nside2npix(128))"
   ]
  },
  {
   "cell_type": "code",
   "execution_count": 9,
   "metadata": {},
   "outputs": [
    {
     "name": "stdout",
     "output_type": "stream",
     "text": [
      "21.8 s ± 68.8 ms per loop (mean ± std. dev. of 7 runs, 1 loop each)\n"
     ]
    }
   ],
   "source": [
    "%timeit compute_corr(m,m,5,1)"
   ]
  },
  {
   "cell_type": "code",
   "execution_count": null,
   "metadata": {},
   "outputs": [],
   "source": []
  },
  {
   "cell_type": "code",
   "execution_count": null,
   "metadata": {},
   "outputs": [],
   "source": []
  },
  {
   "cell_type": "code",
   "execution_count": 27,
   "metadata": {},
   "outputs": [],
   "source": [
    "def _getparams(nside):\n",
    "    if nside==256:\n",
    "        #x = np.exp(np.linspace(-4.2, 0.8, 15))\n",
    "        #x = np.concatenate((np.array([0]),np.exp(np.linspace(-0.5, 3, 11))))\n",
    "        x = np.linspace(20,250,6)/60\n",
    "        colors = ['red', 'pink', 'cyan', 'blue']\n",
    "        dr = (x[1:] - x[:-1])\n",
    "        dr = np.append(dr, dr[-1])\n",
    "    else:\n",
    "        raise Exception('params for this nside not completed yet.')\n",
    "    \n",
    "    return x, dr, colors\n",
    "\n",
    "def plot_corr(dust_map, *ref_maps, scale='log'):\n",
    "    \n",
    "    x, dr, colors = _getparams(hp.get_nside(dust_map))\n",
    "    \n",
    "    plt.figure(figsize=(8,6))\n",
    "    \n",
    "    for ref_map, color in tqdm(zip(ref_maps, colors),total=len(ref_maps)):\n",
    "        out = [compute_corr(ref_map, dust_map, R, thick) for R,thick in zip(x,dr)] \n",
    "        y,err = zip(*out)\n",
    "        plt.errorbar(x*60, list(y), yerr=list(err), color=color)\n",
    "        \n",
    "    plt.xscale(scale)\n",
    "    plt.xlabel('degrees (arcmin)')\n",
    "    plt.ylabel('correlation')\n",
    "    xmin, xmax = plt.xlim()\n",
    "    plt.hlines(0, xmin, xmax, lw=0.5)\n",
    "    return "
   ]
  },
  {
   "cell_type": "code",
   "execution_count": 33,
   "metadata": {},
   "outputs": [],
   "source": [
    "def f(x):\n",
    "    print(x)"
   ]
  },
  {
   "cell_type": "code",
   "execution_count": 2,
   "metadata": {},
   "outputs": [
    {
     "data": {
      "text/plain": [
       "'myfile.1595436938.dat'"
      ]
     },
     "execution_count": 2,
     "metadata": {},
     "output_type": "execute_result"
    }
   ],
   "source": [
    "import time\n",
    "'myfile.%d.dat' % time.time()"
   ]
  },
  {
   "cell_type": "code",
   "execution_count": null,
   "metadata": {},
   "outputs": [],
   "source": [
    "'''\n",
    "before:\n",
    "out = [compute_corr(ref_dict[zrange], dust_map, r, thick) for r,thick in zip(x,thicknesses)]\n",
    "\n",
    "after:\n",
    "with concurrent.futures.ProcessPoolExecutor() as executor:\n",
    "    args = ((ref_dict[zrange], dust_map, r, thick) for r, thick in zip(x,thicknesses))\n",
    "    out = list(executor.map(lambda p:compute_corr(*args), args))\n",
    "\n",
    "\n",
    "\n",
    "\n",
    "'''\n",
    "\n",
    "\n",
    "\n"
   ]
  },
  {
   "cell_type": "code",
   "execution_count": null,
   "metadata": {},
   "outputs": [],
   "source": []
  },
  {
   "cell_type": "code",
   "execution_count": 3,
   "metadata": {},
   "outputs": [
    {
     "data": {
      "application/vnd.jupyter.widget-view+json": {
       "model_id": "cd5b0469318a493c9fdba320464ecda5",
       "version_major": 2,
       "version_minor": 0
      },
      "text/plain": [
       "interactive(children=(IntSlider(value=0, description='theta(position)', max=360), IntSlider(value=10, descript…"
      ]
     },
     "metadata": {},
     "output_type": "display_data"
    }
   ],
   "source": [
    "@interact(theta = widgets.IntSlider(min=0, max=360, step=1, value=0, description='theta(position)'),\n",
    "          phi = widgets.IntSlider(min=-90, max=90, step=1, value=10, description='phi(position)'),\n",
    "          R = widgets.FloatSlider(min=0, max=10.0, step=0.2, value=2, description='R (degrees)'),\n",
    "          dr_mult = widgets.IntSlider(min=1, max=50, step=1, value=6), description='dr multiplier')\n",
    "\n",
    "def vis(theta, phi, R, dr_mult):\n",
    "    '''\n",
    "    visualization tool to see what the circles we are retrieving in the compute_cor(theta) function look like. Theta,\n",
    "    phi, R are all in degrees, and dr_mult is a multiple of the resolution dr in degrees.\n",
    "    \n",
    "    '''\n",
    "    \n",
    "    #Getting some maps\n",
    "    m = np.random.normal(size=hp.nside2npix(1024))\n",
    "    m2 = m\n",
    "\n",
    "    \n",
    "    #Setting up parameters\n",
    "    nside = hp.get_nside(m)\n",
    "    vec = hp.ang2vec(theta, phi, lonlat=True)\n",
    "    dr = dr_mult*np.degrees(hp.nside2resol(nside))\n",
    "\n",
    "    #Retrieving the index of the circle\n",
    "    index = query_annulus(m, nside, vec, R, dr, idx=True)\n",
    "    \n",
    "    #Retrieving statistical properties of values on circle\n",
    "    mean, std = m[index].mean(), m[index].std()\n",
    "    values = m[index]\n",
    "    m[index] = m.max() \n",
    "    #Plotting everything\n",
    "    zscale = ZScaleInterval()\n",
    "    print('mean of values on annulus: '+ str(mean) + r' +- '+str(std/np.sqrt(len(index))))\n",
    "    print('std of values on annulus: ' +str(std))\n",
    "    print('length of annulus array values: '+str(len(index)))\n",
    "    print('thickness of annuli : '+str(dr)+' degrees')\n",
    "    plt.figure(figsize=(6,4))\n",
    "    plt.hist(values, bins=45)\n",
    "    plt.title('occurrence of values on circle')\n",
    "    hp.mollview(zscale(m), title=\"NSIDE = \"+str(nside))\n",
    "\n",
    "    return"
   ]
  },
  {
   "cell_type": "markdown",
   "metadata": {},
   "source": [
    "# Tests"
   ]
  },
  {
   "cell_type": "code",
   "execution_count": 4,
   "metadata": {},
   "outputs": [],
   "source": [
    "#using same bin width for 256, 512, 1024\n",
    "#generate fields with healpix function hp.synfast and test corr_func with that\n",
    "#compare results with corr func from legendre polynomials\n",
    "\n",
    "#Results:\n",
    "\n",
    "#Compute_corr gives same result for auto-correlation when using C_l technique. Different magnitude, but same shape\n"
   ]
  },
  {
   "cell_type": "code",
   "execution_count": 170,
   "metadata": {},
   "outputs": [],
   "source": [
    "def C(theta, C_l):\n",
    "    l_max=len(C_l)\n",
    "    res=0\n",
    "    for l in range(l_max):\n",
    "        res+= C_l[l] * ((2*l + 1)/4*np.pi) * legendre(l)(np.cos(theta))\n",
    "    return res\n",
    "\n"
   ]
  },
  {
   "cell_type": "code",
   "execution_count": 246,
   "metadata": {},
   "outputs": [
    {
     "name": "stderr",
     "output_type": "stream",
     "text": [
      "/Users/williiamlaplante/.local/lib/python3.7/site-packages/healpy/sphtfunc.py:400: FutureChangeWarning: The order of the input cl's will change in a future release.\n",
      "Use new=True keyword to start using the new order.\n",
      "See documentation of healpy.synalm.\n",
      "  category=FutureChangeWarning,\n"
     ]
    },
    {
     "name": "stdout",
     "output_type": "stream",
     "text": [
      "Sigma is 0.000000 arcmin (0.000000 rad) \n",
      "-> fwhm is 0.000000 arcmin\n"
     ]
    },
    {
     "data": {
      "text/plain": [
       "<ErrorbarContainer object of 3 artists>"
      ]
     },
     "execution_count": 246,
     "metadata": {},
     "output_type": "execute_result"
    },
    {
     "data": {
      "image/png": "[encoded data removed]",
      "text/plain": [
       "<Figure size 432x288 with 1 Axes>"
      ]
     },
     "metadata": {
      "needs_background": "light"
     },
     "output_type": "display_data"
    }
   ],
   "source": [
    "\n",
    "\n",
    "x = np.radians(np.linspace(0.01,20,100))\n",
    "x2 = np.linspace(0.01,20,10)\n",
    "thicknesses = np.append((x2[1:] - x2[:-1]), x2[-1]-x2[-2])\n",
    "y = [C(theta,C_l) for theta in x]\n",
    "out = [compute_corr(m,m,theta,thick) for theta,thick in zip(x2,thicknesses)]\n",
    "y2,err = zip(*out)\n"
   ]
  },
  {
   "cell_type": "code",
   "execution_count": 250,
   "metadata": {},
   "outputs": [
    {
     "data": {
      "text/plain": [
       "<matplotlib.legend.Legend at 0x7f9d50eb8f10>"
      ]
     },
     "execution_count": 250,
     "metadata": {},
     "output_type": "execute_result"
    },
    {
     "data": {
      "image/png": "[encoded data removed]",
      "text/plain": [
       "<Figure size 432x288 with 1 Axes>"
      ]
     },
     "metadata": {
      "needs_background": "light"
     },
     "output_type": "display_data"
    }
   ],
   "source": [
    "plt.plot(np.degrees(x),y,label='anafast')\n",
    "plt.errorbar(x2,15*np.array(list(y2)),yerr=list(err),label='hardcode')\n",
    "plt.xlabel('Degrees')\n",
    "plt.ylabel('Correlation')\n",
    "plt.legend()"
   ]
  },
  {
   "cell_type": "code",
   "execution_count": null,
   "metadata": {},
   "outputs": [],
   "source": []
  },
  {
   "cell_type": "code",
   "execution_count": null,
   "metadata": {},
   "outputs": [],
   "source": []
  },
  {
   "cell_type": "code",
   "execution_count": null,
   "metadata": {},
   "outputs": [],
   "source": []
  },
  {
   "cell_type": "code",
   "execution_count": 5,
   "metadata": {},
   "outputs": [],
   "source": [
    "def _plot(ax, ref_map, dust_map):\n",
    "    \n",
    "    resol = np.degrees(hp.nside2resol(hp.get_nside(ref_map)))\n",
    "    dr = [resol*n for n in range(2,20)]\n",
    "    \n",
    "    values = []\n",
    "    errors = []\n",
    "    for thick in dr:\n",
    "        x = np.arange(20/60,500/60,thick)\n",
    "        out = [compute_corr(ref_map, dust_map, R, thick) for R in x]\n",
    "        y, err = zip(*out)\n",
    "        values.append(np.mean(y))\n",
    "        errors.append(np.std(y)/np.sqrt(len(y)))\n",
    "        \n",
    "    ax.errorbar(dr,values,yerr=errors)\n",
    "    ax.set_title('NSIDE='+str(hp.get_nside(ref_map)))\n",
    "    ax.set_xlabel('thickness(degrees)')\n",
    "    ax.set_ylabel('correlation')\n",
    "    ax.grid()\n",
    "    return \n",
    "    \n",
    "def plotwrapper():\n",
    "    nsides = [128,256]    \n",
    "    figs, axes = plt.subplots(nrows=1, ncols=4, figsize=(20,6))\n",
    "    ref = generate_ref_maps(nsides[1])\n",
    "    dust_map, _ = generate_dust_maps(nsides[1])\n",
    "        \n",
    "    for ax, ref_map in tqdm(zip(axes, list(ref)),total=len(ref)):\n",
    "        _plot(ax, ref_map, dust_map)\n",
    "    \n",
    "    plt.savefig('temp/corr_vs_dr.jpg', format='jpeg')\n",
    "    return "
   ]
  },
  {
   "cell_type": "code",
   "execution_count": 14,
   "metadata": {},
   "outputs": [
    {
     "data": {
      "application/vnd.jupyter.widget-view+json": {
       "model_id": "8b80adc7113147e3b3211295db652ab7",
       "version_major": 2,
       "version_minor": 0
      },
      "text/plain": [
       "HBox(children=(FloatProgress(value=0.0, max=4.0), HTML(value='')))"
      ]
     },
     "metadata": {},
     "output_type": "display_data"
    },
    {
     "name": "stdout",
     "output_type": "stream",
     "text": [
      "\n"
     ]
    },
    {
     "data": {
      "image/png": "[encoded data removed]",
      "text/plain": [
       "<Figure size 1440x432 with 4 Axes>"
      ]
     },
     "metadata": {
      "needs_background": "light"
     },
     "output_type": "display_data"
    }
   ],
   "source": [
    "#test to see how average correlation over angle is affected by thickness of \n",
    "plotwrapper()"
   ]
  },
  {
   "cell_type": "code",
   "execution_count": null,
   "metadata": {},
   "outputs": [],
   "source": [
    "#test for large dr, see if it gets closer and closer to 0"
   ]
  },
  {
   "cell_type": "code",
   "execution_count": null,
   "metadata": {},
   "outputs": [],
   "source": [
    "#plot of correlation vs dr for different nside, for each of the reference maps"
   ]
  },
  {
   "cell_type": "code",
   "execution_count": 4,
   "metadata": {},
   "outputs": [],
   "source": [
    "#upload to github!!!"
   ]
  },
  {
   "cell_type": "code",
   "execution_count": null,
   "metadata": {},
   "outputs": [],
   "source": []
  }
 ],
 "metadata": {
  "kernelspec": {
   "display_name": "Python 3",
   "language": "python",
   "name": "python3"
  },
  "language_info": {
   "codemirror_mode": {
    "name": "ipython",
    "version": 3
   },
   "file_extension": ".py",
   "mimetype": "text/x-python",
   "name": "python",
   "nbconvert_exporter": "python",
   "pygments_lexer": "ipython3",
   "version": "3.7.6"
  }
 },
 "nbformat": 4,
 "nbformat_minor": 4
}
