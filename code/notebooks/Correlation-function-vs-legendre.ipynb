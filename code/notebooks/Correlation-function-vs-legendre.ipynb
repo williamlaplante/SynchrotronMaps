{
 "cells": [
  {
   "cell_type": "code",
   "execution_count": 5,
   "metadata": {},
   "outputs": [],
   "source": [
    "import numpy as np\n",
    "import matplotlib.pyplot as plt\n",
    "import healpy as hp\n",
    "from tqdm.notebook import tqdm\n",
    "import concurrent.futures"
   ]
  },
  {
   "cell_type": "code",
   "execution_count": 2,
   "metadata": {},
   "outputs": [],
   "source": [
    "import sys\n",
    "sys.path.append('../')\n",
    "from corrfunc import compute_corr, C"
   ]
  },
  {
   "cell_type": "code",
   "execution_count": 3,
   "metadata": {},
   "outputs": [],
   "source": [
    "\n",
    "def generate_Cls(nmax=25):\n",
    "    return [np.sin(x) for x in np.linspace(0,1,nmax)]"
   ]
  },
  {
   "cell_type": "code",
   "execution_count": 6,
   "metadata": {},
   "outputs": [],
   "source": [
    "def plot_Cls(Cls, nside_out=256, plot_corr=False):\n",
    "    \n",
    "    m = hp.synfast(Cls, nside_out, new=True)\n",
    "    x = np.linspace(1,20,100)\n",
    "    y = [C(theta, Cls) for theta in x]\n",
    "    \n",
    "    if plot_corr:\n",
    "        x_corr = np.linspace(1,20, 15)\n",
    "        thicknesses = np.append(x_corr[1:]-x_corr[:-1], x_corr[-1]-x_corr[-2])\n",
    "        def compute_corr_wrap(p):\n",
    "            return compute_corr(*p)\n",
    "        with concurrent.futures.ProcessPoolExecutor() as executor:\n",
    "            args = ((m,m,R,dr) for R, dr in zip(x_corr, thicknesses))\n",
    "            out = list(executor.map(compute_corr_wrap, args))\n",
    "            y_corr, err_corr = zip(*out)\n",
    "        \n",
    "    plt.figure(figsize=(8,6))\n",
    "    if plot_corr:\n",
    "        plt.errorbar(x_corr, list(y_corr), yerr=list(err_corr), label='compute_corr')\n",
    "    plt.plot(x,y, label='legendre')\n",
    "    plt.xlabel('Degrees')\n",
    "    plt.ylabel('Correlation')\n",
    "    \n",
    "    return"
   ]
  },
  {
   "cell_type": "code",
   "execution_count": 33,
   "metadata": {},
   "outputs": [
    {
     "name": "stdout",
     "output_type": "stream",
     "text": [
      "Sigma is 0.000000 arcmin (0.000000 rad) \n",
      "-> fwhm is 0.000000 arcmin\n"
     ]
    },
    {
     "data": {
      "application/vnd.jupyter.widget-view+json": {
       "model_id": "a402027e415f4d8f9886956714c05e3b",
       "version_major": 2,
       "version_minor": 0
      },
      "text/plain": [
       "HBox(children=(FloatProgress(value=0.0, max=15.0), HTML(value='')))"
      ]
     },
     "metadata": {},
     "output_type": "display_data"
    },
    {
     "name": "stdout",
     "output_type": "stream",
     "text": [
      "\n"
     ]
    },
    {
     "data": {
      "image/png": "[encoded data removed]",
      "text/plain": [
       "<Figure size 576x432 with 1 Axes>"
      ]
     },
     "metadata": {
      "needs_background": "light"
     },
     "output_type": "display_data"
    }
   ],
   "source": [
    "plot_Cls([np.sin(x) for x in np.linspace(0,4.4,20)], plot_corr=True)"
   ]
  },
  {
   "cell_type": "code",
   "execution_count": null,
   "metadata": {},
   "outputs": [],
   "source": []
  },
  {
   "cell_type": "code",
   "execution_count": null,
   "metadata": {},
   "outputs": [],
   "source": []
  }
 ],
 "metadata": {
  "kernelspec": {
   "display_name": "Python 3",
   "language": "python",
   "name": "python3"
  },
  "language_info": {
   "codemirror_mode": {
    "name": "ipython",
    "version": 3
   },
   "file_extension": ".py",
   "mimetype": "text/x-python",
   "name": "python",
   "nbconvert_exporter": "python",
   "pygments_lexer": "ipython3",
   "version": "3.7.6"
  }
 },
 "nbformat": 4,
 "nbformat_minor": 4
}
