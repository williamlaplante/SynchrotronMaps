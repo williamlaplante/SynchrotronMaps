{
 "cells": [
  {
   "cell_type": "code",
   "execution_count": 30,
   "metadata": {},
   "outputs": [],
   "source": [
    "import pandas as pd\n",
    "from array import array\n",
    "import numpy as np\n",
    "import os\n",
    "from tqdm.notebook import tqdm"
   ]
  },
  {
   "cell_type": "code",
   "execution_count": 4,
   "metadata": {},
   "outputs": [],
   "source": [
    "path_ref = \"../../data/processed_maps/ref_maps/\"\n",
    "path_dust = \"../../data/processed_maps/dust_maps/\""
   ]
  },
  {
   "cell_type": "code",
   "execution_count": 6,
   "metadata": {},
   "outputs": [],
   "source": [
    "df = pd.read_csv(path_ref + \"0.1z0.2_1024_overdensity_field.csv\")"
   ]
  },
  {
   "cell_type": "code",
   "execution_count": 8,
   "metadata": {},
   "outputs": [
    {
     "data": {
      "text/plain": [
       "0          -1.000000e+00\n",
       "1          -1.000000e+00\n",
       "2          -1.000000e+00\n",
       "3          -1.000000e+00\n",
       "4          -1.000000e+00\n",
       "                ...     \n",
       "12582907   -1.637500e+30\n",
       "12582908   -1.637500e+30\n",
       "12582909   -1.637500e+30\n",
       "12582910   -1.637500e+30\n",
       "12582911   -1.637500e+30\n",
       "Name: 0, Length: 12582912, dtype: float64"
      ]
     },
     "execution_count": 8,
     "metadata": {},
     "output_type": "execute_result"
    }
   ],
   "source": [
    "df[\"0\"]"
   ]
  },
  {
   "cell_type": "code",
   "execution_count": 26,
   "metadata": {},
   "outputs": [],
   "source": [
    "with open('lol.bin', \"wb\") as f:\n",
    "    array('d', df[\"0\"]).tofile(f)\n",
    "    "
   ]
  },
  {
   "cell_type": "code",
   "execution_count": 27,
   "metadata": {},
   "outputs": [],
   "source": [
    "with open('lol.bin', \"rb\") as f:\n",
    "    float_array = array('d')\n",
    "    float_array.fromstring(f.read())"
   ]
  },
  {
   "cell_type": "code",
   "execution_count": 28,
   "metadata": {},
   "outputs": [
    {
     "data": {
      "text/plain": [
       "array([-1.0000e+00, -1.0000e+00, -1.0000e+00, ..., -1.6375e+30,\n",
       "       -1.6375e+30, -1.6375e+30])"
      ]
     },
     "execution_count": 28,
     "metadata": {},
     "output_type": "execute_result"
    }
   ],
   "source": [
    "np.frombuffer(float_array, dtype=float)"
   ]
  },
  {
   "cell_type": "code",
   "execution_count": 39,
   "metadata": {},
   "outputs": [
    {
     "data": {
      "text/plain": [
       "'0.5z0.6_2048_overdensity_field'"
      ]
     },
     "execution_count": 39,
     "metadata": {},
     "output_type": "execute_result"
    }
   ],
   "source": [
    "os.path.splitext(files[0])[0]"
   ]
  },
  {
   "cell_type": "code",
   "execution_count": 43,
   "metadata": {},
   "outputs": [],
   "source": [
    "files=[]"
   ]
  },
  {
   "cell_type": "code",
   "execution_count": 54,
   "metadata": {},
   "outputs": [],
   "source": [
    "def read_ref_map(nside, zmin, zmax):\n",
    "    if zmin not in [0.1,0.3,0.5,1.2] or zmax not in [0.2,0.4,0.6,1.3]:\n",
    "        raise Exception('Please input a correct zmin or zmax.')\n",
    "    filename = str(zmin)+'z'+str(zmax)+'_'+str(nside)+'_'+'overdensity_field.bin'\n",
    "    filepath = path_ref = \"../../data/processed_maps/ref_maps/\" + filename\n",
    "    \n",
    "    #change filepath accordingly!!!!!!!!!!!!!!!\n",
    "    \n",
    "    with open(filepath, \"rb\") as f:\n",
    "        float_array = array('d')\n",
    "        float_array.frombytes(f.read())\n",
    "        \n",
    "    return np.frombuffer(float_array, dtype=float)\n",
    "\n",
    "def read_dust_map(nside):\n",
    "    filename = \"ebv_\" + str(nside) + \"_1998.bin\"\n",
    "    filepath = \"../../data/processed_maps/dust_maps/\"+filename\n",
    "        \n",
    "    #change filepath accordingly!!!!!!!!!!!!!!!\n",
    "    \n",
    "    with open(filepath, \"rb\") as f:\n",
    "        float_array = array('d')\n",
    "        float_array.frombytes(f.read())\n",
    "        \n",
    "    return np.frombuffer(float_array, dtype=float)"
   ]
  },
  {
   "cell_type": "code",
   "execution_count": 55,
   "metadata": {},
   "outputs": [
    {
     "data": {
      "text/plain": [
       "array([ 0.00102447, -0.00082676,  0.00070904, ...,  0.00028275,\n",
       "        0.00032073,  0.00151193])"
      ]
     },
     "execution_count": 55,
     "metadata": {},
     "output_type": "execute_result"
    }
   ],
   "source": [
    "read_dust_map(1024)"
   ]
  },
  {
   "cell_type": "code",
   "execution_count": null,
   "metadata": {},
   "outputs": [],
   "source": []
  }
 ],
 "metadata": {
  "kernelspec": {
   "display_name": "Python 3",
   "language": "python",
   "name": "python3"
  },
  "language_info": {
   "codemirror_mode": {
    "name": "ipython",
    "version": 3
   },
   "file_extension": ".py",
   "mimetype": "text/x-python",
   "name": "python",
   "nbconvert_exporter": "python",
   "pygments_lexer": "ipython3",
   "version": "3.7.6"
  }
 },
 "nbformat": 4,
 "nbformat_minor": 4
}
