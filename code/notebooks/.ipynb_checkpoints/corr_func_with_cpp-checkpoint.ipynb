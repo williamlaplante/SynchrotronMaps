{
 "cells": [
  {
   "cell_type": "code",
   "execution_count": 1,
   "metadata": {},
   "outputs": [],
   "source": [
    "import numpy as np\n",
    "import matplotlib.pyplot as plt\n",
    "import healpy as hp\n",
    "from astropy.io import fits\n",
    "from astropy.coordinates import SkyCoord\n",
    "from tqdm.notebook import tqdm"
   ]
  },
  {
   "cell_type": "code",
   "execution_count": 2,
   "metadata": {},
   "outputs": [],
   "source": [
    "import sys\n",
    "sys.path.append('../')\n",
    "from corrfunc import compute_corr, C\n",
    "from processing import generate_dust_maps, generate_ref_maps_v2, coord2hp"
   ]
  },
  {
   "cell_type": "code",
   "execution_count": null,
   "metadata": {},
   "outputs": [],
   "source": [
    "'''\n",
    "processed_maps\n",
    "    reference_maps\n",
    "        0.1z0.2_2048_overdensityfield.csv\n",
    "        0.3z0.4_2048_overdensityfield.csv\n",
    "        0.5z0.6_2048_overdensityfield.csv\n",
    "        1.2z1.3_2048_overdensityfield.csv\n",
    "        0.1z0.2_4096_overdensityfield.csv\n",
    "        0.3z0.4_4096_overdensityfield.csv\n",
    "        0.5z0.6_4096_overdensityfield.csv\n",
    "        1.2z1.3_4096_overdensityfield.csv\n",
    "    dust_maps\n",
    "        ebv_2048_1998.csv\n",
    "        ebv_4096_1998.csv\n",
    "\n",
    "\n",
    "\n",
    "'''"
   ]
  },
  {
   "cell_type": "code",
   "execution_count": null,
   "metadata": {},
   "outputs": [],
   "source": []
  },
  {
   "cell_type": "code",
   "execution_count": null,
   "metadata": {},
   "outputs": [],
   "source": []
  }
 ],
 "metadata": {
  "kernelspec": {
   "display_name": "Python 3",
   "language": "python",
   "name": "python3"
  },
  "language_info": {
   "codemirror_mode": {
    "name": "ipython",
    "version": 3
   },
   "file_extension": ".py",
   "mimetype": "text/x-python",
   "name": "python",
   "nbconvert_exporter": "python",
   "pygments_lexer": "ipython3",
   "version": "3.7.6"
  }
 },
 "nbformat": 4,
 "nbformat_minor": 4
}
